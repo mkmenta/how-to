{
 "cells": [
  {
   "cell_type": "markdown",
   "source": [
    "# Regular expression usage in Python\n",
    "**Matching:**"
   ],
   "metadata": {
    "collapsed": false
   }
  },
  {
   "cell_type": "code",
   "execution_count": 1,
   "metadata": {
    "collapsed": true,
    "pycharm": {
     "name": "#%%\n",
     "is_executing": false
    }
   },
   "outputs": [
    {
     "name": "stdout",
     "text": [
      "<_sre.SRE_Match object; span=(0, 19), match='54-46 Was my number'>\n54-46 Was my number\n"
     ],
     "output_type": "stream"
    }
   ],
   "source": [
    "import re\n",
    "txt = \"54-46 Was my number\"\n",
    "\n",
    "x = re.match(\"^[0-9\\-]+ Was my number$\", txt)\n",
    "print(x)\n",
    "print(x.group(0))\n"
   ]
  },
  {
   "cell_type": "markdown",
   "source": [
    "**Non matching:**\n"
   ],
   "metadata": {
    "collapsed": false,
    "pycharm": {
     "name": "#%% md\n"
    }
   }
  },
  {
   "cell_type": "code",
   "execution_count": 2,
   "outputs": [
    {
     "name": "stdout",
     "text": [
      "None\n"
     ],
     "output_type": "stream"
    }
   ],
   "source": [
    "x = re.match(\"^[0-9\\-]+ Was not my number$\", txt)\n",
    "print(x)\n"
   ],
   "metadata": {
    "collapsed": false,
    "pycharm": {
     "name": "#%%\n",
     "is_executing": false
    }
   }
  },
  {
   "cell_type": "markdown",
   "source": [
    "**Searching:**\n"
   ],
   "metadata": {
    "collapsed": false,
    "pycharm": {
     "name": "#%% md\n"
    }
   }
  },
  {
   "cell_type": "code",
   "execution_count": 3,
   "outputs": [
    {
     "name": "stdout",
     "text": [
      "54-46 Was my number\n54\n46\nnumber\n"
     ],
     "output_type": "stream"
    }
   ],
   "source": [
    "x = re.match(\"^([0-9]+)-([0-9]+) Was my (\\w*)$\", txt)\n",
    "print(x.group(0))\n",
    "print(x.group(1))\n",
    "print(x.group(2))\n",
    "print(x.group(3))\n"
   ],
   "metadata": {
    "collapsed": false,
    "pycharm": {
     "name": "#%%\n",
     "is_executing": false
    }
   }
  },
  {
   "cell_type": "markdown",
   "source": [
    "**Compiling:**\n"
   ],
   "metadata": {
    "collapsed": false
   }
  },
  {
   "cell_type": "code",
   "execution_count": 4,
   "outputs": [
    {
     "name": "stdout",
     "text": [
      "54-46 Was my number\n54\n46\nnumber\n"
     ],
     "output_type": "stream"
    }
   ],
   "source": [
    "patt = re.compile(\"^([0-9]+)-([0-9]+) Was my (\\w*)$\")\n",
    "x = patt.match(txt)\n",
    "print(x.group(0))\n",
    "print(x.group(1))\n",
    "print(x.group(2))\n",
    "print(x.group(3))\n"
   ],
   "metadata": {
    "collapsed": false,
    "pycharm": {
     "name": "#%%\n",
     "is_executing": false
    }
   }
  },
  {
   "cell_type": "markdown",
   "source": [
    "## Character reference tables\n",
    "Taken from [w3schools.com](https://www.w3schools.com/python/python_regex.asp).\n",
    "\n",
    "### Basic\n",
    "| Character | Description                                                                | Example       |\n",
    "|-----------|----------------------------------------------------------------------------|---------------|\n",
    "| []        | A set of characters                                                        | \"[a-m]\"       |\n",
    "| \\         | Signals a special sequence (can also be used to escape special characters) | \"\\d\"          |\n",
    "| .         | Any character (except newline character)                                   | \"he..o\"       |\n",
    "| ^         | Starts with                                                                | \"^hello\"      |\n",
    "| `$         | Ends with                                                                  | \"world`$\"      |\n",
    "| *         | Zero or more occurrences                                                   | \"aix*\"        |\n",
    "| +         | One or more occurrences                                                    | \"aix+\"        |\n",
    "| {}        | Exactly the specified number of occurrences                                | \"al{2}\"       |\n",
    "| `|         | Either or                                                                  | \"falls`|stays\" |\n",
    "| ()        | Capture and group                                                          |               |\n",
    "\n",
    "### Specials\n",
    "| Character | Description                                                                                                                             | Example          |\n",
    "|-----------|-----------------------------------------------------------------------------------------------------------------------------------------|------------------|\n",
    "| \\A        | Returns a match if the specified characters are at the beginning of the string                                                          | \"\\AThe\"          |\n",
    "| \\b        | Returns a match where the specified characters are at the beginning or at the end of a word                                             | r\"\\bain\"r\"ain\\b\" |\n",
    "| \\B        | Returns a match where the specified characters are present, but NOT at the beginning (or at the end) of a word                          | r\"\\Bain\"r\"ain\\B\" |\n",
    "| \\d        | Returns a match where the string contains digits (numbers from 0-9)                                                                     | \"\\d\"             |\n",
    "| \\D        | Returns a match where the string DOES NOT contain digits                                                                                | \"\\D\"             |\n",
    "| \\s        | Returns a match where the string contains a white space character                                                                       | \"\\s\"             |\n",
    "| \\S        | Returns a match where the string DOES NOT contain a white space character                                                               | \"\\S\"             |\n",
    "| \\w        | Returns a match where the string contains any word characters (characters from a to Z, digits from 0-9, and the underscore _ character) | \"\\w\"             |\n",
    "| \\W        | Returns a match where the string DOES NOT contain any word characters                                                                   | \"\\W\"             |\n",
    "| \\Z        | Returns a match if the specified characters are at the end of the string                                                                | \"Spain\\Z\"        |\n",
    "\n",
    "### Groups\n",
    "| Set        | Description                                                                                                          |\n",
    "|------------|----------------------------------------------------------------------------------------------------------------------|\n",
    "| [arn]      | Returns a match where one of the specified characters (a, r, or n) are present                                       |\n",
    "| [a-n]      | Returns a match for any lower case character, alphabetically between a and n                                         |\n",
    "| [^arn]     | Returns a match for any character EXCEPT a, r, and n                                                                 |\n",
    "| [0123]     | Returns a match where any of the specified digits (0, 1, 2, or 3) are present                                        |\n",
    "| [0-9]      | Returns a match for any digit between 0 and 9                                                                        |\n",
    "| [0-5][0-9] | Returns a match for any two-digit numbers from 00 and 59                                                             |\n",
    "| [a-zA-Z]   | Returns a match for any character alphabetically between a and z, lower case OR upper case                           |\n",
    "| [+]        | In sets, +, *, ., `|, (), $,{} has no special meaning, so [+] means: return a match for any + character in the string |"
   ],
   "metadata": {
    "collapsed": false,
    "pycharm": {
     "name": "#%% md\n"
    }
   }
  }
 ],
 "metadata": {
  "language_info": {
   "codemirror_mode": {
    "name": "ipython",
    "version": 2
   },
   "file_extension": ".py",
   "mimetype": "text/x-python",
   "name": "python",
   "nbconvert_exporter": "python",
   "pygments_lexer": "ipython2",
   "version": "2.7.6"
  },
  "kernelspec": {
   "name": "python3",
   "language": "python",
   "display_name": "Python 3"
  },
  "pycharm": {
   "stem_cell": {
    "cell_type": "raw",
    "source": [],
    "metadata": {
     "collapsed": false
    }
   }
  }
 },
 "nbformat": 4,
 "nbformat_minor": 0
}